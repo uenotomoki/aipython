{
 "cells": [
  {
   "cell_type": "code",
   "execution_count": 1,
   "metadata": {},
   "outputs": [],
   "source": [
    "#kerasをインポートする\n",
    "from keras import backend\n",
    "from sklearn import preprocessing\n",
    "from keras.models import Sequential\n",
    "from keras.layers import Dense,Activation,LSTM\n",
    "from keras.utils import np_utils\n",
    "from keras.models import load_model    \n",
    "from keras.layers.core import Dropout\n",
    "\n",
    "#pandasとnumpyをインポートする\n",
    "import pandas as pd\n",
    "import numpy as np\n",
    "\n",
    "#すべての警告を非表示にする\n",
    "import warnings\n",
    "warnings.filterwarnings('ignore')\n",
    "\n",
    "#Word2Vecをインポートする\n",
    "from gensim.models.word2vec import Word2Vec\n",
    "\n",
    "#MeCab:形態素解析器のインポート\n",
    "import MeCab"
   ]
  },
  {
   "cell_type": "code",
   "execution_count": 2,
   "metadata": {},
   "outputs": [],
   "source": [
    "class LstmClass:\n",
    "    def __init__(self):\n",
    "        #中間総数\n",
    "        self.n_hidden = 32\n",
    "        #入力データ数\n",
    "        self.data_dim = 50\n",
    "        self.timesteps = 30\n",
    "        #出力データ数\n",
    "        self.num_classes = 6\n",
    "        \n",
    "    def lstmModel(self):\n",
    "        #LSTMの設定\n",
    "        lstm_model = Sequential()\n",
    "        lstm_model.add(LSTM(self.n_hidden, return_sequences=True,\n",
    "        input_shape=(self.timesteps, self.data_dim)))  # 32次元のベクトルのsequenceを出力する\n",
    "\n",
    "        lstm_model.add(LSTM(self.n_hidden))  # 32次元のベクトルを一つ出力する\n",
    "        lstm_model.add(Dense(self.num_classes, activation='softmax'))\n",
    "\n",
    "        lstm_model.compile(loss='categorical_crossentropy',\n",
    "                      optimizer='adam',\n",
    "                      metrics=['accuracy'])\n",
    "        \n",
    "        return lstm_model\n",
    "\n",
    "    def morphologicAlanalysis (self):\n",
    "        words_arr2 = []\n",
    "        \n",
    "        for suvey_row in range(1):\n",
    "            input_text = input()\n",
    "            text = input_text\n",
    "            #形態素解析の実行\n",
    "            tagger = MeCab.Tagger()\n",
    "            words = tagger.parse(text).splitlines()\n",
    "\n",
    "            words_arr = []\n",
    "            for i in range(self.timesteps):\n",
    "                if(i < len(words)):\n",
    "                    word_tmp = words[i].split()[0]\n",
    "                    words_arr.append(word_tmp)\n",
    "                else:\n",
    "                    word_tmp = 'A'\n",
    "                    words_arr.append(word_tmp)\n",
    "        \n",
    "        return words_arr\n",
    "\n",
    "    def lstmProb(self,lstm_model,words_arr):\n",
    "        #LSTMの重さをロード\n",
    "        lstm_model.load_weights('w2v_lstm_weights.h5')\n",
    "        #テストデータの予測を行う\n",
    "        model_path = './word2vec.gensim.model'\n",
    "        w2v_model = Word2Vec.load(model_path)\n",
    "        #予測を行う\n",
    "        x_test =[]\n",
    "        x_test.append(w2v_model[words_arr])\n",
    "        x_test = np.array(x_test).astype(np.float32)\n",
    "        prob = lstm_model.predict(x_test)\n",
    "        \n",
    "        return prob\n",
    "        \n",
    "    def resultView(self,prob):\n",
    "        #結果を表示する\n",
    "        print(\"このアンケートの顧客満足度は\",max(prob[0]),'の確率で',np.argmax(prob[0]),\"です。\")"
   ]
  },
  {
   "cell_type": "code",
   "execution_count": 3,
   "metadata": {},
   "outputs": [
    {
     "name": "stdout",
     "output_type": "stream",
     "text": [
      "スポーツできる場所があるのが良い\n",
      "このアンケートの顧客満足度は 0.9938862 の確率で 5 です。\n"
     ]
    }
   ],
   "source": [
    "def main():\n",
    "    #LSTMのモデルを決定\n",
    "    lstm = LstmClass()\n",
    "    #LSTMによる予測を行う\n",
    "    prob = lstm.lstmProb(lstm.lstmModel(),lstm.morphologicAlanalysis())\n",
    "    #結果を表示する\n",
    "    lstm.resultView(prob)\n",
    "\n",
    "if __name__ == '__main__':\n",
    "    main()"
   ]
  },
  {
   "cell_type": "code",
   "execution_count": null,
   "metadata": {},
   "outputs": [],
   "source": []
  }
 ],
 "metadata": {
  "kernelspec": {
   "display_name": "Python 3",
   "language": "python",
   "name": "python3"
  },
  "language_info": {
   "codemirror_mode": {
    "name": "ipython",
    "version": 3
   },
   "file_extension": ".py",
   "mimetype": "text/x-python",
   "name": "python",
   "nbconvert_exporter": "python",
   "pygments_lexer": "ipython3",
   "version": "3.7.4"
  }
 },
 "nbformat": 4,
 "nbformat_minor": 2
}
